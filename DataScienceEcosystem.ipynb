{
  "metadata": {
    "kernelspec": {
      "name": "python",
      "display_name": "Python (Pyodide)",
      "language": "python"
    },
    "language_info": {
      "codemirror_mode": {
        "name": "python",
        "version": 3
      },
      "file_extension": ".py",
      "mimetype": "text/x-python",
      "name": "python",
      "nbconvert_exporter": "python",
      "pygments_lexer": "ipython3",
      "version": "3.8"
    }
  },
  "nbformat_minor": 5,
  "nbformat": 4,
  "cells": [
    {
      "id": "3b5e40cd-db93-4452-9d25-a3635f452d59",
      "cell_type": "markdown",
      "source": "_Exercise 2: Create a markdown cell with the title of the notebook_\n\n# Data Science Tools and Ecosystem",
      "metadata": {}
    },
    {
      "id": "56acce33-6b29-44dd-9e55-065d60ebefeb",
      "cell_type": "markdown",
      "source": "_Exercise 3: Create a markdown cell for an introduction_\n\nIn this notebook, Data Science Tools and Ecosystem are summarized. ",
      "metadata": {}
    },
    {
      "id": "a5cddaa5-4729-46a1-936d-4a5e799f88cf",
      "cell_type": "markdown",
      "source": "_Exercise 10: Insert a markdown cell to list Objectives_\n\n**Objectives**\n\n+ List popular Data Science Languages\n+ List popular Data Science Libraries\n+ List Data Science tools\n+ Arithmetic expressions ( multiplication, addition, and division ).\n+ Convert minutes to hours\n\n",
      "metadata": {}
    },
    {
      "id": "042c23cf-c142-45aa-beef-0fb0f59ab086",
      "cell_type": "markdown",
      "source": "_Exercise 4: Create a markdown cell to list data science languages_\n\nSome of the popular languages that Data Scientists use are:\n\n1. Python\n2. R\n3. SQL\n4. Java\n5. Scala",
      "metadata": {}
    },
    {
      "id": "35ca20d7-09ea-47c3-bfbd-e662177e37a9",
      "cell_type": "markdown",
      "source": "_Exercise 5: Create a markdown cell to list data science libraries_\n\nSome of the commonly used libraries used by Data Scientists include:\n\n1. Numpy\n2. Pandas\n3. Matplotlib\n4. tidyverse\n5. ggplot2\n6. plotly\n7. caret",
      "metadata": {}
    },
    {
      "id": "00e0beb6-cf55-483d-95e3-8fd9d19960dc",
      "cell_type": "markdown",
      "source": "_Exercise 6: Create a markdown cell with a table of data science tools_\n\n| Data Science Tools |\n|-------------------|\n| Jupyter Notebook |\n| RStudio |\n| VS Code |\n\n",
      "metadata": {}
    },
    {
      "id": "5bc05ea8-2642-4de9-bae5-890dd1d0b223",
      "cell_type": "markdown",
      "source": "_Exercise 7: Create a markdown cell introducing arithmetic expression examples_\n\n### Below are a few examples of evaluating arithmetic expressions in Python. \n----",
      "metadata": {}
    },
    {
      "id": "01f4f5f1-1c8b-4b04-aa13-ff411b1d00a7",
      "cell_type": "code",
      "source": "# Exercise 8: Create a code cell to multiply and add numbers\n\n# This is a simple arithmetic expression to multiply and add integers\n(3 * 4 ) + 5\n",
      "metadata": {
        "trusted": true
      },
      "outputs": [
        {
          "execution_count": 4,
          "output_type": "execute_result",
          "data": {
            "text/plain": "17"
          },
          "metadata": {}
        }
      ],
      "execution_count": 4
    },
    {
      "id": "1cd207d0-a6cc-43a1-a155-be418ef6b3cf",
      "cell_type": "code",
      "source": "# Exercise 9: Create a code cell to convert minutes to hours\n\n# Since 1 hr = 60 mins,\n\n# This will convert 200 minutes to hours by dividing by 60 \n\n200 // 60 \n\n",
      "metadata": {
        "trusted": true
      },
      "outputs": [
        {
          "execution_count": 5,
          "output_type": "execute_result",
          "data": {
            "text/plain": "3"
          },
          "metadata": {}
        }
      ],
      "execution_count": 5
    },
    {
      "id": "a86ff2cd-b1f1-41ee-ad51-a27b1299e842",
      "cell_type": "markdown",
      "source": "## Author\n-------\n\nRandy Otoo",
      "metadata": {}
    }
  ]
}